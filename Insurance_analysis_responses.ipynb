{
 "cells": [
  {
   "cell_type": "code",
   "execution_count": 1,
   "metadata": {},
   "outputs": [],
   "source": [
    "import pandas as pd\n",
    "import matplotlib.pyplot as plt\n",
    "import numpy as np\n",
    "from scipy import stats"
   ]
  },
  {
   "cell_type": "markdown",
   "metadata": {},
   "source": [
    "### 1. Summary Statistics "
   ]
  },
  {
   "cell_type": "code",
   "execution_count": 2,
   "metadata": {
    "scrolled": true
   },
   "outputs": [
    {
     "data": {
      "text/html": [
       "<div>\n",
       "<style scoped>\n",
       "    .dataframe tbody tr th:only-of-type {\n",
       "        vertical-align: middle;\n",
       "    }\n",
       "\n",
       "    .dataframe tbody tr th {\n",
       "        vertical-align: top;\n",
       "    }\n",
       "\n",
       "    .dataframe thead tr th {\n",
       "        text-align: left;\n",
       "    }\n",
       "\n",
       "    .dataframe thead tr:last-of-type th {\n",
       "        text-align: right;\n",
       "    }\n",
       "</style>\n",
       "<table border=\"1\" class=\"dataframe\">\n",
       "  <thead>\n",
       "    <tr>\n",
       "      <th></th>\n",
       "      <th colspan=\"2\" halign=\"left\">age</th>\n",
       "      <th colspan=\"2\" halign=\"left\">bmi</th>\n",
       "      <th colspan=\"2\" halign=\"left\">children</th>\n",
       "      <th colspan=\"2\" halign=\"left\">charges</th>\n",
       "    </tr>\n",
       "    <tr>\n",
       "      <th></th>\n",
       "      <th>mean</th>\n",
       "      <th>std</th>\n",
       "      <th>mean</th>\n",
       "      <th>std</th>\n",
       "      <th>mean</th>\n",
       "      <th>std</th>\n",
       "      <th>mean</th>\n",
       "      <th>std</th>\n",
       "    </tr>\n",
       "    <tr>\n",
       "      <th>region</th>\n",
       "      <th></th>\n",
       "      <th></th>\n",
       "      <th></th>\n",
       "      <th></th>\n",
       "      <th></th>\n",
       "      <th></th>\n",
       "      <th></th>\n",
       "      <th></th>\n",
       "    </tr>\n",
       "  </thead>\n",
       "  <tbody>\n",
       "    <tr>\n",
       "      <th>northeast</th>\n",
       "      <td>38.831111</td>\n",
       "      <td>13.851183</td>\n",
       "      <td>29.408622</td>\n",
       "      <td>6.094427</td>\n",
       "      <td>1.048889</td>\n",
       "      <td>1.184841</td>\n",
       "      <td>13387.630722</td>\n",
       "      <td>11126.065887</td>\n",
       "    </tr>\n",
       "    <tr>\n",
       "      <th>northwest</th>\n",
       "      <td>39.391129</td>\n",
       "      <td>13.858314</td>\n",
       "      <td>29.241996</td>\n",
       "      <td>5.193813</td>\n",
       "      <td>1.185484</td>\n",
       "      <td>1.186066</td>\n",
       "      <td>12609.897092</td>\n",
       "      <td>11329.232371</td>\n",
       "    </tr>\n",
       "    <tr>\n",
       "      <th>southeast</th>\n",
       "      <td>38.942029</td>\n",
       "      <td>14.150499</td>\n",
       "      <td>33.400942</td>\n",
       "      <td>6.690431</td>\n",
       "      <td>1.010870</td>\n",
       "      <td>1.126487</td>\n",
       "      <td>14952.589649</td>\n",
       "      <td>13933.801606</td>\n",
       "    </tr>\n",
       "    <tr>\n",
       "      <th>southwest</th>\n",
       "      <td>40.000000</td>\n",
       "      <td>14.044081</td>\n",
       "      <td>30.693725</td>\n",
       "      <td>5.702855</td>\n",
       "      <td>1.176471</td>\n",
       "      <td>1.272141</td>\n",
       "      <td>12530.708516</td>\n",
       "      <td>11592.095327</td>\n",
       "    </tr>\n",
       "  </tbody>\n",
       "</table>\n",
       "</div>"
      ],
      "text/plain": [
       "                 age                   bmi            children            \\\n",
       "                mean        std       mean       std      mean       std   \n",
       "region                                                                     \n",
       "northeast  38.831111  13.851183  29.408622  6.094427  1.048889  1.184841   \n",
       "northwest  39.391129  13.858314  29.241996  5.193813  1.185484  1.186066   \n",
       "southeast  38.942029  14.150499  33.400942  6.690431  1.010870  1.126487   \n",
       "southwest  40.000000  14.044081  30.693725  5.702855  1.176471  1.272141   \n",
       "\n",
       "                charges                \n",
       "                   mean           std  \n",
       "region                                 \n",
       "northeast  13387.630722  11126.065887  \n",
       "northwest  12609.897092  11329.232371  \n",
       "southeast  14952.589649  13933.801606  \n",
       "southwest  12530.708516  11592.095327  "
      ]
     },
     "execution_count": 2,
     "metadata": {},
     "output_type": "execute_result"
    }
   ],
   "source": [
    "insurance = pd.read_csv(\"data/insurance.csv\")\n",
    "insurance.groupby(\"region\").agg([\"mean\",\"std\"])\n"
   ]
  },
  {
   "cell_type": "code",
   "execution_count": 3,
   "metadata": {},
   "outputs": [
    {
     "data": {
      "text/plain": [
       "region     sex   \n",
       "northeast  female    114\n",
       "           male      111\n",
       "northwest  female    127\n",
       "           male      121\n",
       "southeast  female    130\n",
       "           male      146\n",
       "southwest  female    125\n",
       "           male      130\n",
       "Name: Count, dtype: int64"
      ]
     },
     "execution_count": 3,
     "metadata": {},
     "output_type": "execute_result"
    }
   ],
   "source": [
    "##Gender statistics\n",
    "insurance.groupby([\"region\",\"sex\"]).agg(\"count\")[\"age\"].rename(\"Count\")"
   ]
  },
  {
   "cell_type": "code",
   "execution_count": 4,
   "metadata": {},
   "outputs": [
    {
     "data": {
      "text/plain": [
       "region     smoker\n",
       "northeast  no        179\n",
       "           yes        46\n",
       "northwest  no        201\n",
       "           yes        47\n",
       "southeast  no        202\n",
       "           yes        74\n",
       "southwest  no        209\n",
       "           yes        46\n",
       "Name: Count, dtype: int64"
      ]
     },
     "execution_count": 4,
     "metadata": {},
     "output_type": "execute_result"
    }
   ],
   "source": [
    "##Smoker stats\n",
    "insurance.groupby([\"region\",\"smoker\"]).agg(\"count\")[\"age\"].rename(\"Count\")"
   ]
  },
  {
   "cell_type": "markdown",
   "metadata": {},
   "source": [
    "### 2. Characteristics "
   ]
  },
  {
   "cell_type": "markdown",
   "metadata": {},
   "source": [
    "This population has clients in ages ranging from 18 to 64, with highest number of insurers between the ages 18-19 (\\~50 people per age), and uniformly distributed number of clients per all other ages (\\~20 people). Based on summary statistics, there is no clear difference in center/spread of attributes grouped by region.  Approximately 57% of population have on average of 2 children insured, and the remaining 43% do not have children insured."
   ]
  },
  {
   "cell_type": "code",
   "execution_count": 5,
   "metadata": {},
   "outputs": [
    {
     "data": {
      "image/png": "[encoded data removed]",
      "text/plain": [
       "<Figure size 432x288 with 1 Axes>"
      ]
     },
     "metadata": {
      "needs_background": "light"
     },
     "output_type": "display_data"
    },
    {
     "data": {
      "image/png": "[encoded data removed]",
      "text/plain": [
       "<Figure size 432x288 with 1 Axes>"
      ]
     },
     "metadata": {
      "needs_background": "light"
     },
     "output_type": "display_data"
    },
    {
     "data": {
      "text/html": [
       "<div>\n",
       "<style scoped>\n",
       "    .dataframe tbody tr th:only-of-type {\n",
       "        vertical-align: middle;\n",
       "    }\n",
       "\n",
       "    .dataframe tbody tr th {\n",
       "        vertical-align: top;\n",
       "    }\n",
       "\n",
       "    .dataframe thead th {\n",
       "        text-align: right;\n",
       "    }\n",
       "</style>\n",
       "<table border=\"1\" class=\"dataframe\">\n",
       "  <thead>\n",
       "    <tr style=\"text-align: right;\">\n",
       "      <th></th>\n",
       "      <th>count</th>\n",
       "    </tr>\n",
       "    <tr>\n",
       "      <th>age</th>\n",
       "      <th></th>\n",
       "    </tr>\n",
       "  </thead>\n",
       "  <tbody>\n",
       "    <tr>\n",
       "      <th>18</th>\n",
       "      <td>49</td>\n",
       "    </tr>\n",
       "    <tr>\n",
       "      <th>19</th>\n",
       "      <td>50</td>\n",
       "    </tr>\n",
       "    <tr>\n",
       "      <th>20</th>\n",
       "      <td>20</td>\n",
       "    </tr>\n",
       "    <tr>\n",
       "      <th>21</th>\n",
       "      <td>21</td>\n",
       "    </tr>\n",
       "    <tr>\n",
       "      <th>22</th>\n",
       "      <td>22</td>\n",
       "    </tr>\n",
       "  </tbody>\n",
       "</table>\n",
       "</div>"
      ],
      "text/plain": [
       "     count\n",
       "age       \n",
       "18      49\n",
       "19      50\n",
       "20      20\n",
       "21      21\n",
       "22      22"
      ]
     },
     "execution_count": 5,
     "metadata": {},
     "output_type": "execute_result"
    }
   ],
   "source": [
    "plt.hist(insurance[\"age\"], bins=\"auto\")\n",
    "plt.title(\"Histogram of Ages\")\n",
    "plt.show()\n",
    "plt.hist(insurance[\"bmi\"], bins=30)\n",
    "plt.title(\"Histogram of BMI\")\n",
    "plt.show()\n",
    "\n",
    "pd.DataFrame(insurance.groupby(\"age\").agg(\"count\").head()[\"sex\"].rename(\"count\"))"
   ]
  },
  {
   "cell_type": "code",
   "execution_count": 6,
   "metadata": {},
   "outputs": [
    {
     "data": {
      "text/plain": [
       "0.57"
      ]
     },
     "execution_count": 6,
     "metadata": {},
     "output_type": "execute_result"
    }
   ],
   "source": [
    "##checking children stats\n",
    "insurance[\"children\"].unique()\n",
    "round(sum(insurance[\"children\"] != 0)/len(insurance),2)"
   ]
  },
  {
   "cell_type": "code",
   "execution_count": 7,
   "metadata": {},
   "outputs": [
    {
     "data": {
      "text/plain": [
       "1.9220103986135182"
      ]
     },
     "execution_count": 7,
     "metadata": {},
     "output_type": "execute_result"
    }
   ],
   "source": [
    "##average number of kids insured\n",
    "np.mean(insurance[insurance[\"children\"] != 0][\"children\"])"
   ]
  },
  {
   "cell_type": "markdown",
   "metadata": {},
   "source": [
    "### 3. Gender/Age\n",
    "Is female age different from male age?"
   ]
  },
  {
   "cell_type": "markdown",
   "metadata": {},
   "source": [
    "\n",
    "$H_0: \\mu_{female} = \\mu_{male}$  \n",
    "$H_1: \\mu_{female} \\neq \\mu_{male}$  \n",
    "\n",
    "With the assumption of identical variances of age grouped by sex, we conduct a t-test with p-value of 0.11.  At significance level $\\alpha = 0.05$, we accept the null hypothesis, which means there's not enough evidence to conclude a difference in ages of insurers for different genders."
   ]
  },
  {
   "cell_type": "code",
   "execution_count": 8,
   "metadata": {},
   "outputs": [
    {
     "data": {
      "text/html": [
       "<div>\n",
       "<style scoped>\n",
       "    .dataframe tbody tr th:only-of-type {\n",
       "        vertical-align: middle;\n",
       "    }\n",
       "\n",
       "    .dataframe tbody tr th {\n",
       "        vertical-align: top;\n",
       "    }\n",
       "\n",
       "    .dataframe thead th {\n",
       "        text-align: right;\n",
       "    }\n",
       "</style>\n",
       "<table border=\"1\" class=\"dataframe\">\n",
       "  <thead>\n",
       "    <tr style=\"text-align: right;\">\n",
       "      <th></th>\n",
       "      <th>mean</th>\n",
       "      <th>std</th>\n",
       "      <th>count</th>\n",
       "    </tr>\n",
       "    <tr>\n",
       "      <th>sex</th>\n",
       "      <th></th>\n",
       "      <th></th>\n",
       "      <th></th>\n",
       "    </tr>\n",
       "  </thead>\n",
       "  <tbody>\n",
       "    <tr>\n",
       "      <th>female</th>\n",
       "      <td>40.004032</td>\n",
       "      <td>13.91707</td>\n",
       "      <td>496</td>\n",
       "    </tr>\n",
       "    <tr>\n",
       "      <th>male</th>\n",
       "      <td>38.606299</td>\n",
       "      <td>14.00361</td>\n",
       "      <td>508</td>\n",
       "    </tr>\n",
       "  </tbody>\n",
       "</table>\n",
       "</div>"
      ],
      "text/plain": [
       "             mean       std  count\n",
       "sex                               \n",
       "female  40.004032  13.91707    496\n",
       "male    38.606299  14.00361    508"
      ]
     },
     "execution_count": 8,
     "metadata": {},
     "output_type": "execute_result"
    }
   ],
   "source": [
    "##age statistics\n",
    "pd.DataFrame(insurance.groupby([\"sex\"]).agg([\"mean\",\"std\",\"count\"])[\"age\"])"
   ]
  },
  {
   "cell_type": "code",
   "execution_count": 9,
   "metadata": {},
   "outputs": [
    {
     "data": {
      "text/plain": [
       "Ttest_indResult(statistic=1.5860463168350691, pvalue=0.11304431459154292)"
      ]
     },
     "execution_count": 9,
     "metadata": {},
     "output_type": "execute_result"
    }
   ],
   "source": [
    "female = insurance[insurance[\"sex\"]==\"female\"][\"age\"]\n",
    "male = insurance[insurance[\"sex\"]==\"male\"][\"age\"]\n",
    "#assumption: populations of female/male insurers have identical variances\n",
    "stats.ttest_ind(female,male)"
   ]
  },
  {
   "cell_type": "markdown",
   "metadata": {},
   "source": [
    "### 4.  Smoking rate \n",
    "Is there a difference in smoking rates between those who have kids and those who do not?"
   ]
  },
  {
   "cell_type": "markdown",
   "metadata": {},
   "source": [
    "$H_0: \\mu_{kids} = \\mu_{no\\_kids}$  \n",
    "$H_1: \\mu_{kids} \\neq \\mu_{no\\_kids}$  \n",
    "\n",
    "Based on the t-test results, there is no significant difference in proportion of smokers grouped on whether or not they have children. P-value is 0.825, At significance level $\\alpha = 0.05$, we accept the null hypothesis, which means there's not enough evidence to conclude a difference in smoking rates between those who have kids and those who do not."
   ]
  },
  {
   "cell_type": "code",
   "execution_count": 10,
   "metadata": {},
   "outputs": [
    {
     "data": {
      "text/html": [
       "<div>\n",
       "<style scoped>\n",
       "    .dataframe tbody tr th:only-of-type {\n",
       "        vertical-align: middle;\n",
       "    }\n",
       "\n",
       "    .dataframe tbody tr th {\n",
       "        vertical-align: top;\n",
       "    }\n",
       "\n",
       "    .dataframe thead th {\n",
       "        text-align: right;\n",
       "    }\n",
       "</style>\n",
       "<table border=\"1\" class=\"dataframe\">\n",
       "  <thead>\n",
       "    <tr style=\"text-align: right;\">\n",
       "      <th></th>\n",
       "      <th>mean</th>\n",
       "      <th>std</th>\n",
       "    </tr>\n",
       "    <tr>\n",
       "      <th>kid</th>\n",
       "      <th></th>\n",
       "      <th></th>\n",
       "    </tr>\n",
       "  </thead>\n",
       "  <tbody>\n",
       "    <tr>\n",
       "      <th>0</th>\n",
       "      <td>0.215457</td>\n",
       "      <td>0.411621</td>\n",
       "    </tr>\n",
       "    <tr>\n",
       "      <th>1</th>\n",
       "      <td>0.209705</td>\n",
       "      <td>0.407452</td>\n",
       "    </tr>\n",
       "  </tbody>\n",
       "</table>\n",
       "</div>"
      ],
      "text/plain": [
       "         mean       std\n",
       "kid                    \n",
       "0    0.215457  0.411621\n",
       "1    0.209705  0.407452"
      ]
     },
     "execution_count": 10,
     "metadata": {},
     "output_type": "execute_result"
    }
   ],
   "source": [
    "insurance[\"kid\"] = (insurance[\"children\"] > 0).astype(\"int\")\n",
    "insurance[\"smoker\"] = insurance[\"smoker\"].map({'yes': 1, 'no': 0})\n",
    "insurance.groupby(\"kid\").agg([\"mean\",\"std\"])[\"smoker\"]\n"
   ]
  },
  {
   "cell_type": "code",
   "execution_count": 11,
   "metadata": {},
   "outputs": [],
   "source": [
    "\n",
    "kids = insurance[insurance[\"kid\"]== 1][\"smoker\"]\n",
    "no_kids = insurance[insurance[\"kid\"]== 0][\"smoker\"]"
   ]
  },
  {
   "cell_type": "code",
   "execution_count": 12,
   "metadata": {},
   "outputs": [
    {
     "data": {
      "text/plain": [
       "Ttest_indResult(statistic=-0.2201579269704336, pvalue=0.8257930078763985)"
      ]
     },
     "execution_count": 12,
     "metadata": {},
     "output_type": "execute_result"
    }
   ],
   "source": [
    "stats.ttest_ind(kids, no_kids)"
   ]
  },
  {
   "cell_type": "markdown",
   "metadata": {},
   "source": [
    "### 5.  collinearity"
   ]
  },
  {
   "cell_type": "markdown",
   "metadata": {},
   "source": [
    "Based on correlation coefficients, the collinearity is highest between smoker and insurance charges."
   ]
  },
  {
   "cell_type": "code",
   "execution_count": 13,
   "metadata": {},
   "outputs": [],
   "source": [
    "insurance[\"sex\"] = insurance[\"sex\"].map({\"male\":1, \"female\":0})"
   ]
  },
  {
   "cell_type": "code",
   "execution_count": 14,
   "metadata": {
    "scrolled": true
   },
   "outputs": [
    {
     "data": {
      "text/html": [
       "<div>\n",
       "<style scoped>\n",
       "    .dataframe tbody tr th:only-of-type {\n",
       "        vertical-align: middle;\n",
       "    }\n",
       "\n",
       "    .dataframe tbody tr th {\n",
       "        vertical-align: top;\n",
       "    }\n",
       "\n",
       "    .dataframe thead th {\n",
       "        text-align: right;\n",
       "    }\n",
       "</style>\n",
       "<table border=\"1\" class=\"dataframe\">\n",
       "  <thead>\n",
       "    <tr style=\"text-align: right;\">\n",
       "      <th></th>\n",
       "      <th>age</th>\n",
       "      <th>sex</th>\n",
       "      <th>bmi</th>\n",
       "      <th>children</th>\n",
       "      <th>smoker</th>\n",
       "      <th>charges</th>\n",
       "    </tr>\n",
       "  </thead>\n",
       "  <tbody>\n",
       "    <tr>\n",
       "      <th>age</th>\n",
       "      <td>1.000000</td>\n",
       "      <td>-0.050042</td>\n",
       "      <td>0.122592</td>\n",
       "      <td>0.039342</td>\n",
       "      <td>-0.030918</td>\n",
       "      <td>0.300724</td>\n",
       "    </tr>\n",
       "    <tr>\n",
       "      <th>sex</th>\n",
       "      <td>-0.050042</td>\n",
       "      <td>1.000000</td>\n",
       "      <td>0.057649</td>\n",
       "      <td>0.031525</td>\n",
       "      <td>0.083945</td>\n",
       "      <td>0.062405</td>\n",
       "    </tr>\n",
       "    <tr>\n",
       "      <th>bmi</th>\n",
       "      <td>0.122592</td>\n",
       "      <td>0.057649</td>\n",
       "      <td>1.000000</td>\n",
       "      <td>0.003464</td>\n",
       "      <td>-0.005651</td>\n",
       "      <td>0.191917</td>\n",
       "    </tr>\n",
       "    <tr>\n",
       "      <th>children</th>\n",
       "      <td>0.039342</td>\n",
       "      <td>0.031525</td>\n",
       "      <td>0.003464</td>\n",
       "      <td>1.000000</td>\n",
       "      <td>-0.014863</td>\n",
       "      <td>0.053132</td>\n",
       "    </tr>\n",
       "    <tr>\n",
       "      <th>smoker</th>\n",
       "      <td>-0.030918</td>\n",
       "      <td>0.083945</td>\n",
       "      <td>-0.005651</td>\n",
       "      <td>-0.014863</td>\n",
       "      <td>1.000000</td>\n",
       "      <td>0.786831</td>\n",
       "    </tr>\n",
       "    <tr>\n",
       "      <th>charges</th>\n",
       "      <td>0.300724</td>\n",
       "      <td>0.062405</td>\n",
       "      <td>0.191917</td>\n",
       "      <td>0.053132</td>\n",
       "      <td>0.786831</td>\n",
       "      <td>1.000000</td>\n",
       "    </tr>\n",
       "  </tbody>\n",
       "</table>\n",
       "</div>"
      ],
      "text/plain": [
       "               age       sex       bmi  children    smoker   charges\n",
       "age       1.000000 -0.050042  0.122592  0.039342 -0.030918  0.300724\n",
       "sex      -0.050042  1.000000  0.057649  0.031525  0.083945  0.062405\n",
       "bmi       0.122592  0.057649  1.000000  0.003464 -0.005651  0.191917\n",
       "children  0.039342  0.031525  0.003464  1.000000 -0.014863  0.053132\n",
       "smoker   -0.030918  0.083945 -0.005651 -0.014863  1.000000  0.786831\n",
       "charges   0.300724  0.062405  0.191917  0.053132  0.786831  1.000000"
      ]
     },
     "execution_count": 14,
     "metadata": {},
     "output_type": "execute_result"
    }
   ],
   "source": [
    "data = insurance.iloc[:,:-1]\n",
    "data.corr()"
   ]
  },
  {
   "cell_type": "markdown",
   "metadata": {},
   "source": [
    "### 6. Effects"
   ]
  },
  {
   "cell_type": "code",
   "execution_count": 15,
   "metadata": {},
   "outputs": [
    {
     "data": {
      "image/png": "[encoded data removed]",
      "text/plain": [
       "<Figure size 432x288 with 1 Axes>"
      ]
     },
     "metadata": {
      "needs_background": "light"
     },
     "output_type": "display_data"
    },
    {
     "data": {
      "image/png": "[encoded data removed]",
      "text/plain": [
       "<Figure size 432x288 with 1 Axes>"
      ]
     },
     "metadata": {
      "needs_background": "light"
     },
     "output_type": "display_data"
    }
   ],
   "source": [
    "###Visualization of linearity trends\n",
    "\n",
    "smoke = insurance[insurance[\"smoker\"] == 1]\n",
    "n_smoke = insurance[insurance[\"smoker\"] == 0]\n",
    "\n",
    "plt.scatter(smoke[\"bmi\"], smoke[\"charges\"])\n",
    "plt.scatter(n_smoke[\"bmi\"], n_smoke[\"charges\"])\n",
    "plt.title(\"Charges vs BMI\")\n",
    "plt.legend([\"smoker\", \"non-smoker\"])\n",
    "plt.show()\n",
    "##smoke bmi interaction term\n",
    "\n",
    "plt.scatter(insurance[\"age\"], insurance[\"charges\"])\n",
    "plt.title(\"Charges vs Age\")\n",
    "plt.show()"
   ]
  },
  {
   "cell_type": "code",
   "execution_count": 16,
   "metadata": {},
   "outputs": [],
   "source": [
    "insurance[\"interact\"] = insurance[\"smoker\"]*insurance[\"bmi\"]\n",
    "X = np.array(insurance[[\"sex\",\"bmi\",\"smoker\",\"age\",\"interact\"]])\n",
    "y = np.array(list(insurance[\"charges\"]))"
   ]
  },
  {
   "cell_type": "code",
   "execution_count": 17,
   "metadata": {},
   "outputs": [
    {
     "name": "stdout",
     "output_type": "stream",
     "text": [
      "Training:  0.8328752774280138\n",
      "Test:  0.8611344228042562\n"
     ]
    }
   ],
   "source": [
    "from sklearn.model_selection import train_test_split\n",
    "from sklearn import linear_model\n",
    "\n",
    "#split training and test data\n",
    "X_train, X_test, y_train, y_test = train_test_split(X,y, test_size=0.3, random_state=125)\n",
    "\n",
    "alphas = np.arange(0.1, 1, 0.1)  \n",
    "#parameter tuning\n",
    "clf = linear_model.RidgeCV(alphas)\n",
    "clf.fit(X_train,y_train)\n",
    "#Scores\n",
    "print(\"Training: \", clf.score(X_train,y_train))\n",
    "print(\"Test: \", clf.score(X_test, y_test))\n",
    "\n",
    "#coefficients\n",
    "#[round(v, 4) for v in clf.coef_]"
   ]
  },
  {
   "cell_type": "code",
   "execution_count": 18,
   "metadata": {
    "scrolled": false
   },
   "outputs": [
    {
     "data": {
      "image/png": "[encoded data removed]",
      "text/plain": [
       "<Figure size 432x288 with 1 Axes>"
      ]
     },
     "metadata": {
      "needs_background": "light"
     },
     "output_type": "display_data"
    }
   ],
   "source": [
    "##Residual plot\n",
    "plt.scatter(y_test, y_test - clf.predict(X_test))\n",
    "plt.title(\"Residual Plot\")\n",
    "plt.xlabel(\"Fitted Values\")\n",
    "plt.ylabel(\"Residuals\")\n",
    "plt.show()"
   ]
  },
  {
   "cell_type": "markdown",
   "metadata": {},
   "source": [
    "#### Model and Conclusions"
   ]
  },
  {
   "cell_type": "markdown",
   "metadata": {},
   "source": [
    "#### Model: Ridge Regression with interaction term\n",
    "$\\hat{y}$ = predicted charges  \n",
    "$\\hat{y} = -531.4497(male) -0.73(bmi) -19568.3256(smoker)+ 258.7993(age)+ 1409.25(smoker*bmi)$\n"
   ]
  },
  {
   "cell_type": "code",
   "execution_count": 19,
   "metadata": {},
   "outputs": [
    {
     "name": "stdout",
     "output_type": "stream",
     "text": [
      "Predicted increase in charge for a smoker with bmi of 26.6 (Average BMI in the U.S.): $ 17917.72\n"
     ]
    }
   ],
   "source": [
    "\n",
    "print(\"Predicted increase in charge for a smoker with bmi of 26.6 (Average BMI in the U.S.): $\", round(26.6*1409.25 - 19568.3256,2))"
   ]
  },
  {
   "cell_type": "markdown",
   "metadata": {},
   "source": [
    "Based on the model:\n",
    "- Being a male reduces charges by approximately $500\n",
    "- Being a smoker affects medical cost by 1409.25(bmi)-19568.3256, based on average bmi (26.6) in the United States, being a smoker would increase charges by approximately \\$17917.72.  \n",
    "- The effect of each additional year on medical cost is approximately \\$258.8 per year increase"
   ]
  },
  {
   "cell_type": "markdown",
   "metadata": {},
   "source": [
    "Assumptions made for this model are:  \n",
    "- e \\~ $N(0, \\sigma^2)$\n",
    "- linearity\n",
    "- Independence of observations\n",
    "\n",
    "From the residual plot we can see residuals are fairly random and follow constant variance. Linearity assumptions was checked with correlation coefficients and plots above. "
   ]
  },
  {
   "cell_type": "markdown",
   "metadata": {},
   "source": [
    "### 7. Probability model \n",
    "\n",
    "We can use a logistic regression model trained on features from the data that we have.  \n",
    "\n",
    "With weights we obtain from the regression we can then plug values into the equation below to get a probability.\n",
    "\n",
    "$p_i = \\frac{exp(\\beta_0 + \\beta_1 x_{i1} + ... + \\beta_p x_{ip})}{1 + exp(\\beta_0 + \\beta_1 x_{i1} + ... + \\beta_p x_{ip})}$  \n",
    "\n",
    "To evaluate the effectiveness of the model, we can use cross-validation with varying number of features to see where accuracy for both training and test data is maximized.  \n",
    "\n",
    "We can decide on a cutoff based on the true labels (> 50k or not) of our data and find a cutoff which maximizes classification accuracy in both groups (> 50k or not). Another way to decide on threshold would be to balance profit and risk tradeoff.\n",
    "\n",
    "If we were to pick a somewhat arbitrary X, I think X should be at 0.50 since we want to minimize the number of false negatives in this case and so 0.5 is a safe probability cutoff to work with as it's at the half-way point. "
   ]
  },
  {
   "cell_type": "markdown",
   "metadata": {},
   "source": [
    "### Section II: Checking Conversion Rates"
   ]
  },
  {
   "cell_type": "code",
   "execution_count": 20,
   "metadata": {},
   "outputs": [],
   "source": [
    "from datetime import datetime\n",
    "\n",
    "conversion_rates = pd.read_csv(\"data/conversion_rates.csv\")\n",
    "conversion_rates.groupby(\"came_from\").agg(\"mean\")\n",
    "\n",
    "conversion_rates[\"date\"] = [datetime.strptime(date,\"%Y-%m-%d\") for date in conversion_rates[\"date\"]]\n",
    "after = conversion_rates[\"date\"] > datetime.strptime(\"2018-09-05\",\"%Y-%m-%d\")\n",
    "\n",
    "conversion_rates[\"after\"] = after"
   ]
  },
  {
   "cell_type": "code",
   "execution_count": 21,
   "metadata": {},
   "outputs": [],
   "source": [
    "A = conversion_rates[conversion_rates[\"came_from\"]==\"Insurance Site A\"]\n",
    "B = conversion_rates[conversion_rates[\"came_from\"]==\"Insurance Site B\"]\n",
    "C = conversion_rates[conversion_rates[\"came_from\"]==\"Insurance Site C\"]\n",
    "google = conversion_rates[conversion_rates[\"came_from\"]==\"Google Search\"]\n",
    "\n",
    "\n",
    "X_A = np.array(A.iloc[:,[1,2,3,6]])\n",
    "y_A = np.array(A[\"reached_end\"])\n",
    "\n",
    "X_B = np.array(B.iloc[:,[1,2,3,6]])\n",
    "y_B = np.array(B[\"reached_end\"])\n",
    "\n",
    "X_C = np.array(C.iloc[:,[1,2,3,6]])\n",
    "y_C = np.array(C[\"reached_end\"])\n",
    "\n",
    "X_Google = np.array(google.iloc[:,[1,2,3,6]])\n",
    "y_Google = np.array(google[\"reached_end\"])\n"
   ]
  },
  {
   "cell_type": "code",
   "execution_count": 22,
   "metadata": {},
   "outputs": [
    {
     "name": "stdout",
     "output_type": "stream",
     "text": [
      "Model A [[-0.39234512  0.06835397  0.15303019 -0.01697152]]\n",
      "Model B [[ 0.16998791 -0.05672903  0.23041274 -0.05380087]]\n",
      "Model C [[ 0.18571578 -0.01778265 -0.47148571  0.60576608]]\n",
      "Model Google [[ 0.23144929  0.0123093  -0.42630685  0.8191712 ]]\n"
     ]
    }
   ],
   "source": [
    "modA = linear_model.LogisticRegression(random_state=0, solver='lbfgs').fit(X_A, y_A)\n",
    "print(\"Model A\", modA.coef_)\n",
    "\n",
    "modB = linear_model.LogisticRegression(random_state=0, solver='lbfgs').fit(X_B, y_B)\n",
    "print(\"Model B\", modB.coef_)\n",
    "\n",
    "modC = linear_model.LogisticRegression(random_state=0, solver='lbfgs').fit(X_C, y_C)\n",
    "print(\"Model C\", modC.coef_)\n",
    "\n",
    "modGoogle = linear_model.LogisticRegression(random_state=0, solver='lbfgs').fit(X_Google, y_Google)\n",
    "print(\"Model Google\",modGoogle.coef_)\n"
   ]
  },
  {
   "cell_type": "markdown",
   "metadata": {},
   "source": [
    "I decided to fit logistic models for each type of site that the data came from (A,B,C, and Google), and then use attributes: male, age, has_insurance, and after (implementation of the feature) to train the models.  From the coefficients ouputted above, it looks like in general the product change improved conversion rates if searches came from site C or Google Search, but not for Site A and B. I think we can work on further developing features to appeal to clients coming from Site A and B more."
   ]
  },
  {
   "cell_type": "markdown",
   "metadata": {},
   "source": [
    "### Section III: Visualizing Data "
   ]
  },
  {
   "cell_type": "code",
   "execution_count": 23,
   "metadata": {},
   "outputs": [],
   "source": [
    "names_id_age = pd.read_csv(\"data/names_id_age.csv\")\n",
    "lead_sale_stats = pd.read_csv(\"data/lead_sale_stats.csv\").dropna()\n",
    "\n",
    "lead_type, lead_id = [], []\n",
    "\n",
    "for v in lead_sale_stats[\"lead_id\"]:\n",
    "    typ, id_ = sorted(v.split(\"_\"), key=len) \n",
    "    lead_type.append(typ)\n",
    "    lead_id.append(int(id_))\n",
    "\n",
    "lead_sale_stats[\"lead_id\"] = lead_id\n",
    "lead_sale_stats[\"lead_type\"] = lead_type"
   ]
  },
  {
   "cell_type": "code",
   "execution_count": 24,
   "metadata": {},
   "outputs": [
    {
     "data": {
      "image/png": "[encoded data removed]",
      "text/plain": [
       "<Figure size 500x500 with 1 Axes>"
      ]
     },
     "metadata": {
      "needs_background": "light"
     },
     "output_type": "display_data"
    }
   ],
   "source": [
    "import seaborn as sns\n",
    "import matplotlib.patches as mpatches\n",
    "\n",
    "data = pd.merge(lead_sale_stats, names_id_age, left_on='lead_id',right_on=\"lead_id\", how='left')\n",
    "data = data[[\"lead_id\", \"lead_type_y\", \"bought_policy\", \"policy_amount\"]]\n",
    "grped = data.groupby(\"lead_type_y\").agg(\"mean\")\n",
    "proportions = [round(v,2) for v in grped[\"bought_policy\"]]\n",
    "data_purchased = data[data[\"bought_policy\"]==1]\n",
    "vertical_offsets = [373, 410,400]\n",
    "\n",
    "plt.figure(figsize=(5,5), dpi=100)\n",
    "white_patch = mpatches.Patch(label='Proportion of leads which became sales',facecolor='white', edgecolor='black')\n",
    "box_plot = sns.boxplot(x=\"lead_type_y\", y=\"policy_amount\", data=data_purchased, order=[\"A\", \"B\", \"C\"])\n",
    "box_plot.set_title(\"Boxplot of Policy Amounts by Lead Type\")\n",
    "box_plot.set_ylabel(\"Policy Amount\")\n",
    "box_plot.set_xlabel(\"Lead Type\")\n",
    "box_plot.legend(bbox_to_anchor=(2, 1),loc=\"upper right\", handles=[white_patch])\n",
    "\n",
    "for xtick in box_plot.get_xticks():\n",
    "    box_plot.text(xtick, vertical_offsets[xtick], proportions[xtick], \n",
    "            horizontalalignment='center',size='medium',color='w',weight='semibold')\n"
   ]
  },
  {
   "cell_type": "markdown",
   "metadata": {},
   "source": [
    "Based on the proportion of leads which became sales, it doesn't seem like lead indicators are very accurate -- proportion of buyers are same regardless of their indicated likelihood to purchase. The spread of policy amount spent per lead type are also very similar across groups. To help growth we should improve the accuracy of indicators and focus on targetting groups which were indicated with the lowest intent to buy."
   ]
  }
 ],
 "metadata": {
  "kernelspec": {
   "display_name": "Python 3",
   "language": "python",
   "name": "python3"
  },
  "language_info": {
   "codemirror_mode": {
    "name": "ipython",
    "version": 3
   },
   "file_extension": ".py",
   "mimetype": "text/x-python",
   "name": "python",
   "nbconvert_exporter": "python",
   "pygments_lexer": "ipython3",
   "version": "3.7.3"
  }
 },
 "nbformat": 4,
 "nbformat_minor": 2
}
